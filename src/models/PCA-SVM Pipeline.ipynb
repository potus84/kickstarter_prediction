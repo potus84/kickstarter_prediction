{
 "cells": [
  {
   "cell_type": "code",
   "execution_count": 2,
   "metadata": {},
   "outputs": [],
   "source": [
    "import pandas as pd\n",
    "from os.path import join\n",
    "\n",
    "from sklearn import svm\n",
    "from pandas import DataFrame\n",
    "from sklearn.ensemble import RandomForestClassifier\n",
    "import matplotlib.pyplot as plt\n",
    "from sklearn.impute import SimpleImputer\n",
    "from sklearn.model_selection import train_test_split, cross_val_score\n",
    "from sklearn.preprocessing import LabelEncoder\n",
    "import numpy as np\n",
    "import matplotlib.pyplot as plt\n",
    "\n",
    "from sklearn.decomposition import PCA\n",
    "from sklearn import svm\n",
    "from sklearn.pipeline import Pipeline\n",
    "from sklearn.model_selection import GridSearchCV"
   ]
  },
  {
   "cell_type": "code",
   "execution_count": 3,
   "metadata": {},
   "outputs": [],
   "source": [
    "import os\n",
    "os.chdir('/home/tai/Projects/kickstarter_prediction')"
   ]
  },
  {
   "cell_type": "markdown",
   "metadata": {},
   "source": [
    "## Check the with SVM Quantile"
   ]
  },
  {
   "cell_type": "code",
   "execution_count": 4,
   "metadata": {},
   "outputs": [],
   "source": [
    "train_quantile = pd.read_csv('data/data_quantile_transform/train_quantile_transform.csv', encoding='latin1', low_memory=True)\n",
    "test_quantile = pd.read_csv('data/data_quantile_transform/test_quantile_transform.csv', encoding='latin1', low_memory=True)\n",
    "val_quantile = pd.read_csv('data/data_quantile_transform/val_quantile_transform.csv', encoding='latin1', low_memory=True)"
   ]
  },
  {
   "cell_type": "code",
   "execution_count": 5,
   "metadata": {},
   "outputs": [],
   "source": [
    "train_quantile_large = pd.concat([train_quantile,val_quantile], axis=0)"
   ]
  },
  {
   "cell_type": "code",
   "execution_count": 7,
   "metadata": {},
   "outputs": [],
   "source": [
    "train_x = train_quantile_large.drop(['success'], axis=1)\n",
    "train_y = train_quantile_large.success\n",
    "test_x = test_quantile.drop(['success'], axis=1)\n",
    "test_y = test_quantile.success"
   ]
  },
  {
   "cell_type": "code",
   "execution_count": 8,
   "metadata": {},
   "outputs": [
    {
     "data": {
      "text/plain": [
       "(232170, 221)"
      ]
     },
     "execution_count": 8,
     "metadata": {},
     "output_type": "execute_result"
    }
   ],
   "source": [
    "train_x.shape"
   ]
  },
  {
   "cell_type": "code",
   "execution_count": 19,
   "metadata": {},
   "outputs": [
    {
     "name": "stdout",
     "output_type": "stream",
     "text": [
      "Fitting 5 folds for each of 45 candidates, totalling 225 fits\n",
      "[Parallel(n_jobs=64)]: Using backend LokyBackend with 64 concurrent workers.\n",
      "[Parallel(n_jobs=64)]: Done   1 tasks      | elapsed: 66.1min\n",
      "[Parallel(n_jobs=64)]: Done   2 tasks      | elapsed: 71.9min\n",
      "[Parallel(n_jobs=64)]: Done   3 tasks      | elapsed: 72.1min\n",
      "[Parallel(n_jobs=64)]: Done   4 tasks      | elapsed: 72.4min\n",
      "[Parallel(n_jobs=64)]: Done   5 tasks      | elapsed: 72.5min\n",
      "[Parallel(n_jobs=64)]: Done   6 tasks      | elapsed: 72.5min\n",
      "[Parallel(n_jobs=64)]: Done   7 tasks      | elapsed: 72.6min\n",
      "[Parallel(n_jobs=64)]: Done   8 tasks      | elapsed: 72.7min\n",
      "[Parallel(n_jobs=64)]: Done   9 tasks      | elapsed: 72.7min\n",
      "[Parallel(n_jobs=64)]: Done  10 tasks      | elapsed: 72.8min\n",
      "[Parallel(n_jobs=64)]: Done  11 tasks      | elapsed: 73.0min\n",
      "[Parallel(n_jobs=64)]: Done  12 tasks      | elapsed: 73.0min\n",
      "[Parallel(n_jobs=64)]: Done  13 tasks      | elapsed: 73.0min\n",
      "[Parallel(n_jobs=64)]: Done  14 tasks      | elapsed: 73.0min\n",
      "[Parallel(n_jobs=64)]: Done  15 tasks      | elapsed: 73.1min\n",
      "[Parallel(n_jobs=64)]: Done  16 tasks      | elapsed: 73.5min\n",
      "[Parallel(n_jobs=64)]: Done  17 tasks      | elapsed: 74.0min\n",
      "[Parallel(n_jobs=64)]: Done  18 tasks      | elapsed: 75.0min\n",
      "[Parallel(n_jobs=64)]: Done  19 tasks      | elapsed: 78.7min\n",
      "[Parallel(n_jobs=64)]: Done  20 tasks      | elapsed: 78.7min\n",
      "[Parallel(n_jobs=64)]: Done  21 tasks      | elapsed: 80.1min\n",
      "[Parallel(n_jobs=64)]: Done  22 tasks      | elapsed: 80.3min\n",
      "[Parallel(n_jobs=64)]: Done  23 tasks      | elapsed: 82.5min\n",
      "[Parallel(n_jobs=64)]: Done  24 tasks      | elapsed: 82.9min\n",
      "[Parallel(n_jobs=64)]: Done  25 tasks      | elapsed: 90.6min\n",
      "[Parallel(n_jobs=64)]: Done  26 tasks      | elapsed: 91.0min\n",
      "[Parallel(n_jobs=64)]: Done  27 tasks      | elapsed: 91.2min\n",
      "[Parallel(n_jobs=64)]: Done  28 tasks      | elapsed: 91.5min\n",
      "[Parallel(n_jobs=64)]: Done  29 tasks      | elapsed: 91.7min\n",
      "[Parallel(n_jobs=64)]: Done  30 tasks      | elapsed: 91.8min\n",
      "[Parallel(n_jobs=64)]: Done  31 tasks      | elapsed: 92.1min\n",
      "[Parallel(n_jobs=64)]: Done  32 tasks      | elapsed: 92.3min\n",
      "[Parallel(n_jobs=64)]: Done  33 tasks      | elapsed: 92.6min\n",
      "[Parallel(n_jobs=64)]: Done  34 tasks      | elapsed: 92.7min\n",
      "[Parallel(n_jobs=64)]: Done  35 tasks      | elapsed: 93.0min\n",
      "[Parallel(n_jobs=64)]: Done  36 tasks      | elapsed: 93.9min\n",
      "[Parallel(n_jobs=64)]: Done  37 tasks      | elapsed: 93.9min\n",
      "[Parallel(n_jobs=64)]: Done  38 tasks      | elapsed: 94.9min\n",
      "[Parallel(n_jobs=64)]: Done  39 tasks      | elapsed: 95.3min\n",
      "[Parallel(n_jobs=64)]: Done  40 tasks      | elapsed: 96.6min\n",
      "[Parallel(n_jobs=64)]: Done  41 tasks      | elapsed: 97.2min\n",
      "[Parallel(n_jobs=64)]: Done  42 tasks      | elapsed: 97.8min\n",
      "[Parallel(n_jobs=64)]: Done  43 tasks      | elapsed: 100.2min\n",
      "[Parallel(n_jobs=64)]: Done  44 tasks      | elapsed: 106.4min\n",
      "[Parallel(n_jobs=64)]: Done  45 tasks      | elapsed: 122.8min\n",
      "[Parallel(n_jobs=64)]: Done  46 tasks      | elapsed: 124.2min\n",
      "[Parallel(n_jobs=64)]: Done  47 tasks      | elapsed: 124.2min\n",
      "[Parallel(n_jobs=64)]: Done  48 tasks      | elapsed: 125.6min\n",
      "[Parallel(n_jobs=64)]: Done  49 tasks      | elapsed: 127.4min\n",
      "[Parallel(n_jobs=64)]: Done  50 tasks      | elapsed: 127.4min\n",
      "[Parallel(n_jobs=64)]: Done  51 tasks      | elapsed: 135.1min\n",
      "[Parallel(n_jobs=64)]: Done  52 tasks      | elapsed: 135.6min\n",
      "[Parallel(n_jobs=64)]: Done  53 tasks      | elapsed: 136.0min\n",
      "[Parallel(n_jobs=64)]: Done  54 tasks      | elapsed: 136.0min\n",
      "[Parallel(n_jobs=64)]: Done  55 tasks      | elapsed: 136.7min\n",
      "[Parallel(n_jobs=64)]: Done  56 tasks      | elapsed: 136.9min\n",
      "[Parallel(n_jobs=64)]: Done  57 tasks      | elapsed: 137.3min\n",
      "[Parallel(n_jobs=64)]: Done  58 tasks      | elapsed: 137.9min\n",
      "[Parallel(n_jobs=64)]: Done  59 tasks      | elapsed: 138.2min\n",
      "[Parallel(n_jobs=64)]: Done  60 tasks      | elapsed: 138.2min\n",
      "[Parallel(n_jobs=64)]: Done  61 tasks      | elapsed: 139.7min\n",
      "[Parallel(n_jobs=64)]: Done  62 tasks      | elapsed: 162.0min\n",
      "[Parallel(n_jobs=64)]: Done  63 tasks      | elapsed: 162.3min\n",
      "[Parallel(n_jobs=64)]: Done  64 tasks      | elapsed: 178.5min\n",
      "[Parallel(n_jobs=64)]: Done  65 tasks      | elapsed: 186.2min\n",
      "[Parallel(n_jobs=64)]: Done  66 tasks      | elapsed: 192.7min\n",
      "[Parallel(n_jobs=64)]: Done  67 tasks      | elapsed: 196.5min\n",
      "[Parallel(n_jobs=64)]: Done  68 tasks      | elapsed: 196.7min\n",
      "[Parallel(n_jobs=64)]: Done  69 tasks      | elapsed: 196.8min\n",
      "[Parallel(n_jobs=64)]: Done  70 tasks      | elapsed: 197.0min\n",
      "[Parallel(n_jobs=64)]: Done  71 tasks      | elapsed: 197.6min\n",
      "[Parallel(n_jobs=64)]: Done  72 tasks      | elapsed: 197.8min\n",
      "[Parallel(n_jobs=64)]: Done  73 tasks      | elapsed: 198.2min\n",
      "[Parallel(n_jobs=64)]: Done  74 tasks      | elapsed: 199.1min\n",
      "[Parallel(n_jobs=64)]: Done  75 tasks      | elapsed: 202.7min\n",
      "[Parallel(n_jobs=64)]: Done  76 tasks      | elapsed: 238.3min\n",
      "[Parallel(n_jobs=64)]: Done  77 tasks      | elapsed: 238.7min\n",
      "[Parallel(n_jobs=64)]: Done  78 tasks      | elapsed: 241.2min\n",
      "[Parallel(n_jobs=64)]: Done  79 tasks      | elapsed: 241.7min\n",
      "[Parallel(n_jobs=64)]: Done  80 tasks      | elapsed: 243.1min\n",
      "[Parallel(n_jobs=64)]: Done  81 tasks      | elapsed: 243.9min\n",
      "[Parallel(n_jobs=64)]: Done  82 tasks      | elapsed: 247.9min\n",
      "[Parallel(n_jobs=64)]: Done  83 tasks      | elapsed: 249.2min\n",
      "[Parallel(n_jobs=64)]: Done  84 tasks      | elapsed: 250.9min\n",
      "[Parallel(n_jobs=64)]: Done  85 tasks      | elapsed: 250.9min\n",
      "[Parallel(n_jobs=64)]: Done  86 tasks      | elapsed: 251.7min\n",
      "[Parallel(n_jobs=64)]: Done  87 tasks      | elapsed: 255.7min\n",
      "[Parallel(n_jobs=64)]: Done  88 tasks      | elapsed: 257.4min\n",
      "[Parallel(n_jobs=64)]: Done  89 tasks      | elapsed: 263.4min\n",
      "[Parallel(n_jobs=64)]: Done  90 tasks      | elapsed: 263.6min\n",
      "[Parallel(n_jobs=64)]: Done  91 tasks      | elapsed: 264.2min\n",
      "[Parallel(n_jobs=64)]: Done  92 tasks      | elapsed: 269.1min\n",
      "[Parallel(n_jobs=64)]: Done  93 tasks      | elapsed: 276.8min\n",
      "[Parallel(n_jobs=64)]: Done  94 tasks      | elapsed: 279.1min\n",
      "[Parallel(n_jobs=64)]: Done  95 tasks      | elapsed: 279.9min\n",
      "[Parallel(n_jobs=64)]: Done  96 tasks      | elapsed: 280.1min\n",
      "[Parallel(n_jobs=64)]: Done  97 tasks      | elapsed: 280.2min\n",
      "[Parallel(n_jobs=64)]: Done  98 tasks      | elapsed: 280.2min\n",
      "[Parallel(n_jobs=64)]: Done 103 out of 225 | elapsed: 288.3min remaining: 341.5min\n",
      "[Parallel(n_jobs=64)]: Done 108 out of 225 | elapsed: 299.2min remaining: 324.1min\n",
      "[Parallel(n_jobs=64)]: Done 113 out of 225 | elapsed: 309.5min remaining: 306.8min\n",
      "[Parallel(n_jobs=64)]: Done 118 out of 225 | elapsed: 341.7min remaining: 309.8min\n",
      "[Parallel(n_jobs=64)]: Done 123 out of 225 | elapsed: 380.6min remaining: 315.6min\n",
      "[Parallel(n_jobs=64)]: Done 128 out of 225 | elapsed: 421.2min remaining: 319.2min\n",
      "[Parallel(n_jobs=64)]: Done 133 out of 225 | elapsed: 437.3min remaining: 302.5min\n",
      "[Parallel(n_jobs=64)]: Done 138 out of 225 | elapsed: 441.6min remaining: 278.4min\n",
      "[Parallel(n_jobs=64)]: Done 143 out of 225 | elapsed: 474.3min remaining: 272.0min\n",
      "[Parallel(n_jobs=64)]: Done 148 out of 225 | elapsed: 481.4min remaining: 250.4min\n",
      "[Parallel(n_jobs=64)]: Done 153 out of 225 | elapsed: 490.8min remaining: 231.0min\n",
      "[Parallel(n_jobs=64)]: Done 158 out of 225 | elapsed: 497.3min remaining: 210.9min\n",
      "[Parallel(n_jobs=64)]: Done 163 out of 225 | elapsed: 521.8min remaining: 198.5min\n",
      "[Parallel(n_jobs=64)]: Done 168 out of 225 | elapsed: 599.7min remaining: 203.5min\n",
      "[Parallel(n_jobs=64)]: Done 173 out of 225 | elapsed: 612.6min remaining: 184.1min\n",
      "[Parallel(n_jobs=64)]: Done 178 out of 225 | elapsed: 617.3min remaining: 163.0min\n",
      "[Parallel(n_jobs=64)]: Done 183 out of 225 | elapsed: 638.4min remaining: 146.5min\n",
      "[Parallel(n_jobs=64)]: Done 188 out of 225 | elapsed: 666.0min remaining: 131.1min\n",
      "[Parallel(n_jobs=64)]: Done 193 out of 225 | elapsed: 674.1min remaining: 111.8min\n",
      "[Parallel(n_jobs=64)]: Done 198 out of 225 | elapsed: 682.3min remaining: 93.0min\n",
      "[Parallel(n_jobs=64)]: Done 203 out of 225 | elapsed: 696.5min remaining: 75.5min\n",
      "[Parallel(n_jobs=64)]: Done 208 out of 225 | elapsed: 705.0min remaining: 57.6min\n",
      "[Parallel(n_jobs=64)]: Done 213 out of 225 | elapsed: 770.0min remaining: 43.4min\n",
      "[Parallel(n_jobs=64)]: Done 218 out of 225 | elapsed: 777.3min remaining: 25.0min\n"
     ]
    },
    {
     "name": "stdout",
     "output_type": "stream",
     "text": [
      "[Parallel(n_jobs=64)]: Done 223 out of 225 | elapsed: 779.9min remaining:  7.0min\n",
      "[Parallel(n_jobs=64)]: Done 225 out of 225 | elapsed: 787.1min finished\n"
     ]
    },
    {
     "data": {
      "text/plain": [
       "GridSearchCV(cv=5, error_score='raise-deprecating',\n",
       "       estimator=Pipeline(memory=None,\n",
       "     steps=[('pca', PCA(copy=True, iterated_power='auto', n_components=None, random_state=None,\n",
       "  svd_solver='auto', tol=0.0, whiten=False)), ('svm', SVC(C=1.0, cache_size=200, class_weight=None, coef0=0.0,\n",
       "  decision_function_shape='ovr', degree=3, gamma='auto_deprecated',\n",
       "  kernel='rbf', max_iter=-1, probability=False, random_state=None,\n",
       "  shrinking=True, tol=0.001, verbose=False))]),\n",
       "       fit_params=None, iid=False, n_jobs=64,\n",
       "       param_grid={'pca__n_components': [44, 88, 132, 176, 221], 'svm__kernel': ['linear'], 'svm__C': [0.001, 0.01, 1], 'svm__gamma': [0.001, 0.01, 1]},\n",
       "       pre_dispatch='2*n_jobs', refit=True, return_train_score=False,\n",
       "       scoring=None, verbose=50)"
      ]
     },
     "execution_count": 19,
     "metadata": {},
     "output_type": "execute_result"
    }
   ],
   "source": [
    "# Define a pipeline to search for the best combination of PCA truncation\n",
    "# and classifier regularization.\n",
    "supp_vec_machine = svm.SVC()\n",
    "pca = PCA()\n",
    "pipe = Pipeline(steps=[('pca', pca), ('svm', supp_vec_machine)])\n",
    "\n",
    "# Parameters of pipelines can be set using ‘__’ separated parameter names:\n",
    "param_grid = {\n",
    "    'pca__n_components': [int(i*221/100) for i in range(20, 101, 20)],\n",
    "    'svm__kernel' : ['linear'],\n",
    "    'svm__C' : [0.001, 0.01, 1],\n",
    "    'svm__gamma': [0.001, 0.01, 1]\n",
    "    \n",
    "}\n",
    "search = GridSearchCV(pipe, param_grid, iid=False, cv=5,\n",
    "                      return_train_score=False, verbose=50, n_jobs=64)\n",
    "search.fit(train_x, train_y)"
   ]
  },
  {
   "cell_type": "code",
   "execution_count": 20,
   "metadata": {},
   "outputs": [
    {
     "name": "stdout",
     "output_type": "stream",
     "text": [
      "Best parameter (CV score=0.783):\n",
      "{'pca__n_components': 221, 'svm__C': 1, 'svm__gamma': 0.001, 'svm__kernel': 'linear'}\n"
     ]
    }
   ],
   "source": [
    "print(\"Best parameter (CV score=%0.3f):\" % search.best_score_)\n",
    "print(search.best_params_)"
   ]
  },
  {
   "cell_type": "markdown",
   "metadata": {},
   "source": [
    "### Test on test set"
   ]
  },
  {
   "cell_type": "code",
   "execution_count": 23,
   "metadata": {},
   "outputs": [
    {
     "data": {
      "text/plain": [
       "SVC(C=1, cache_size=200, class_weight=None, coef0=0.0,\n",
       "  decision_function_shape='ovr', degree=3, gamma=0.001, kernel='linear',\n",
       "  max_iter=-1, probability=False, random_state=None, shrinking=True,\n",
       "  tol=0.001, verbose=False)"
      ]
     },
     "execution_count": 23,
     "metadata": {},
     "output_type": "execute_result"
    }
   ],
   "source": [
    "model = svm.SVC(C=1, gamma=0.001, kernel='linear')\n",
    "model.fit(train_x, train_y)"
   ]
  },
  {
   "cell_type": "code",
   "execution_count": 26,
   "metadata": {},
   "outputs": [],
   "source": [
    "y_pred = model.predict(test_x)"
   ]
  },
  {
   "cell_type": "code",
   "execution_count": 28,
   "metadata": {},
   "outputs": [],
   "source": [
    "from sklearn.metrics import accuracy_score\n",
    "accuracy = accuracy_score(test_y, y_pred)"
   ]
  },
  {
   "cell_type": "code",
   "execution_count": 29,
   "metadata": {},
   "outputs": [
    {
     "data": {
      "text/plain": [
       "0.7832706880263713"
      ]
     },
     "execution_count": 29,
     "metadata": {},
     "output_type": "execute_result"
    }
   ],
   "source": [
    "accuracy"
   ]
  },
  {
   "cell_type": "markdown",
   "metadata": {},
   "source": [
    "## Train with the post feature remove"
   ]
  },
  {
   "cell_type": "code",
   "execution_count": 9,
   "metadata": {},
   "outputs": [
    {
     "data": {
      "text/plain": [
       "Index(['usd_goal_real', 'success', 'contain_special_symbols', 'name_length',\n",
       "       'num_vowels', 'num_cap', 'num_whitespace', 'contain_bad_word',\n",
       "       'subjectivity', 'polarity',\n",
       "       ...\n",
       "       'country_JP', 'country_LU', 'country_MX', 'country_N,0\"', 'country_NL',\n",
       "       'country_NO', 'country_NZ', 'country_SE', 'country_SG', 'country_US'],\n",
       "      dtype='object', length=222)"
      ]
     },
     "execution_count": 9,
     "metadata": {},
     "output_type": "execute_result"
    }
   ],
   "source": [
    "train_quantile.columns"
   ]
  },
  {
   "cell_type": "code",
   "execution_count": 10,
   "metadata": {},
   "outputs": [],
   "source": [
    "train_x_no_post = train_quantile_large.drop(['success', 'pledged_per_backer', 'required_backers','required_backers_per_day'], axis=1)\n",
    "train_y = train_quantile_large.success\n",
    "test_x_no_post = test_quantile.drop(['success', 'pledged_per_backer', 'required_backers','required_backers_per_day'], axis=1)\n",
    "test_y = test_quantile.success"
   ]
  },
  {
   "cell_type": "code",
   "execution_count": 11,
   "metadata": {},
   "outputs": [
    {
     "data": {
      "text/plain": [
       "SVC(C=1, cache_size=200, class_weight=None, coef0=0.0,\n",
       "  decision_function_shape='ovr', degree=3, gamma=0.001, kernel='linear',\n",
       "  max_iter=-1, probability=False, random_state=None, shrinking=True,\n",
       "  tol=0.001, verbose=False)"
      ]
     },
     "execution_count": 11,
     "metadata": {},
     "output_type": "execute_result"
    }
   ],
   "source": [
    "model2 = svm.SVC(C=1, gamma=0.001, kernel='linear')\n",
    "model2.fit(train_x_no_post, train_y)"
   ]
  },
  {
   "cell_type": "code",
   "execution_count": null,
   "metadata": {},
   "outputs": [],
   "source": [
    "y_pred = model2.predict(test_x_no_post)\n",
    "from sklearn.metrics import accuracy_score\n",
    "accuracy = accuracy_score(test_y, y_pred)"
   ]
  },
  {
   "cell_type": "code",
   "execution_count": null,
   "metadata": {},
   "outputs": [],
   "source": []
  }
 ],
 "metadata": {
  "kernelspec": {
   "display_name": "Python 3",
   "language": "python",
   "name": "python3"
  },
  "language_info": {
   "codemirror_mode": {
    "name": "ipython",
    "version": 3
   },
   "file_extension": ".py",
   "mimetype": "text/x-python",
   "name": "python",
   "nbconvert_exporter": "python",
   "pygments_lexer": "ipython3",
   "version": "3.7.1"
  }
 },
 "nbformat": 4,
 "nbformat_minor": 2
}
